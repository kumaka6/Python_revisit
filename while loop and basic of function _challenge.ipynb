{
 "cells": [
  {
   "cell_type": "markdown",
   "id": "76d3ad68",
   "metadata": {},
   "source": [
    "q1 : Try to print this by using while loop \n",
    "* \n",
    "* * \n",
    "* * * \n",
    "* * * * \n",
    "* * * * * \n",
    "* * * * * * \n",
    "* * * * * * * \n",
    "* * * * * * * * \n",
    "* * * * * * * * * "
   ]
  },
  {
   "cell_type": "code",
   "execution_count": 5,
   "id": "a6f15e4c",
   "metadata": {},
   "outputs": [
    {
     "name": "stdout",
     "output_type": "stream",
     "text": [
      "* \n",
      "* * \n",
      "* * * \n",
      "* * * * \n",
      "* * * * * \n",
      "* * * * * * \n",
      "* * * * * * * \n",
      "* * * * * * * * \n",
      "* * * * * * * * * \n"
     ]
    }
   ],
   "source": [
    "n, i= 9, 1\n",
    "while i <=n:\n",
    "    print(\"* \"*i )\n",
    "    i+=1"
   ]
  },
  {
   "cell_type": "markdown",
   "id": "eb40279f",
   "metadata": {},
   "source": [
    "q2 : try to print below by using while loop : \n",
    "        \n",
    "A\n",
    "B H \n",
    "C I N\n",
    "D J o S\n",
    "E K p T W\n",
    "F L Q U X z\n",
    "G M R V Y "
   ]
  },
  {
   "cell_type": "code",
   "execution_count": 6,
   "id": "f1112e8e",
   "metadata": {},
   "outputs": [],
   "source": [
    "x =[\"A\",[\"B\",\"H\"],[\"C\",\"I\", \"N\"], [\"D\",\"J\",\"O\",\"S\"],[\"E\",\"K\",\"P\",\"T\",\"W\"],[\"F\",\"L\",\"Q\",\"U\",\"X\",\"Z\"],[\"G\",\"M\",\"R\",\"V\",\"Y\"]]"
   ]
  },
  {
   "cell_type": "code",
   "execution_count": 7,
   "id": "a0dded57",
   "metadata": {},
   "outputs": [
    {
     "data": {
      "text/plain": [
       "['A',\n",
       " ['B', 'H'],\n",
       " ['C', 'I', 'N'],\n",
       " ['D', 'J', 'O', 'S'],\n",
       " ['E', 'K', 'P', 'T', 'W'],\n",
       " ['F', 'L', 'Q', 'U', 'X', 'Z'],\n",
       " ['G', 'M', 'R', 'V', 'Y']]"
      ]
     },
     "execution_count": 7,
     "metadata": {},
     "output_type": "execute_result"
    }
   ],
   "source": [
    "x"
   ]
  },
  {
   "cell_type": "code",
   "execution_count": null,
   "id": "f7299b6b",
   "metadata": {},
   "outputs": [],
   "source": []
  }
 ],
 "metadata": {
  "kernelspec": {
   "display_name": "Python 3 (ipykernel)",
   "language": "python",
   "name": "python3"
  },
  "language_info": {
   "codemirror_mode": {
    "name": "ipython",
    "version": 3
   },
   "file_extension": ".py",
   "mimetype": "text/x-python",
   "name": "python",
   "nbconvert_exporter": "python",
   "pygments_lexer": "ipython3",
   "version": "3.9.12"
  }
 },
 "nbformat": 4,
 "nbformat_minor": 5
}
